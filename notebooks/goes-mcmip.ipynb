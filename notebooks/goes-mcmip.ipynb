{
 "cells": [
  {
   "cell_type": "code",
   "execution_count": null,
   "id": "28a928b6",
   "metadata": {},
   "outputs": [],
   "source": [
    "import goes2go\n",
    "import pandas as pd\n",
    "import numpy as np\n",
    "import xarray as xr\n",
    "from goes2go import GOES\n",
    "from datetime import datetime, timedelta\n",
    "import matplotlib.pyplot as plt\n",
    "\n",
    "import warnings\n",
    "warnings.simplefilter(\"ignore\")\n",
    "\n",
    "import fsspec\n",
    "fs = fsspec.filesystem('s3', anon=True)\n",
    "fsspec_caching = {\n",
    "    \"cache_type\": \"blockcache\",  # block cache stores blocks of fixed size and uses eviction using a LRU strategy.\n",
    "    \"block_size\": 8\n",
    "    * 1024\n",
    "    * 1024,  # size in bytes per block, adjust depends on the file size but the recommended size is in the MB\n",
    "}"
   ]
  },
  {
   "cell_type": "markdown",
   "id": "81ae3ff9",
   "metadata": {},
   "source": [
    "#### Find all files between launch of satellite and now\n",
    "\n",
    "We need to write a loop around this, since the goes2go searching across long time periods is pretty slow. I also noticed that `goes2go.goes_nearesttime` takes way longer than searching for a timerange."
   ]
  },
  {
   "cell_type": "code",
   "execution_count": null,
   "id": "8bda6dfe",
   "metadata": {},
   "outputs": [],
   "source": [
    "abi_files = goes2go.goes_timerange(\n",
    "    start=datetime(2018, 1, 1, 00, 00), \n",
    "    end=datetime(2018, 1, 1, 00, 30),\n",
    "    download=False,\n",
    "    domain='F',\n",
    "    product=\"ABI-L2-MCMIP\",\n",
    ")"
   ]
  },
  {
   "cell_type": "code",
   "execution_count": null,
   "id": "6778a414",
   "metadata": {},
   "outputs": [],
   "source": [
    "abi_files"
   ]
  },
  {
   "cell_type": "markdown",
   "id": "4f49346c",
   "metadata": {},
   "source": [
    "#### Other Data Products"
   ]
  },
  {
   "cell_type": "code",
   "execution_count": null,
   "id": "d762f27a",
   "metadata": {},
   "outputs": [],
   "source": [
    "# Cloud height at 2 km\n",
    "\n",
    "acha_files = goes2go.goes_timerange(\n",
    "    start=datetime(2018, 4, 1, 10, 00), \n",
    "    end=datetime(2018, 4, 1, 11, 00),\n",
    "    download=False,\n",
    "    # domain='F',\n",
    "    product=\"ABI-L2-ACHA2KMF\",\n",
    ")"
   ]
  },
  {
   "cell_type": "code",
   "execution_count": null,
   "id": "e78351d0",
   "metadata": {},
   "outputs": [],
   "source": [
    "# Cloud pressure at 2 km\n",
    "\n",
    "achp_files = goes2go.goes_timerange(\n",
    "    start=datetime(2023, 4, 1, 10, 00), \n",
    "    end=datetime(2023, 4, 1, 11, 00),\n",
    "    download=False,\n",
    "    # domain='F',\n",
    "    product=\"ABI-L2-ACHP2KMF\",\n",
    ")"
   ]
  },
  {
   "cell_type": "code",
   "execution_count": null,
   "id": "2e212d7e",
   "metadata": {},
   "outputs": [],
   "source": [
    "# Cloud optical depth at 2 km\n",
    "\n",
    "cod_files = goes2go.goes_timerange(\n",
    "    start=datetime(2023, 4, 1, 10, 00), \n",
    "    end=datetime(2023, 4, 1, 11, 00),\n",
    "    download=False,\n",
    "    # domain='F',\n",
    "    product=\"ABI-L2-COD2KMF\",\n",
    ")"
   ]
  },
  {
   "cell_type": "code",
   "execution_count": null,
   "id": "a84ee742",
   "metadata": {},
   "outputs": [],
   "source": [
    "# Cloud temperature at 2 km\n",
    "\n",
    "acht_files = goes2go.goes_timerange(\n",
    "    start=datetime(2020, 3, 1, 10, 00), \n",
    "    end=datetime(2020, 3, 1, 11, 00),\n",
    "    download=False,\n",
    "    # domain='F',\n",
    "    product=\"ABI-L2-ACHTF\",\n",
    ")"
   ]
  },
  {
   "cell_type": "code",
   "execution_count": null,
   "id": "7fcb49ce",
   "metadata": {},
   "outputs": [],
   "source": [
    "# Clear sky mask at 2 km\n",
    "\n",
    "acm_files = goes2go.goes_timerange(\n",
    "    start=datetime(2022, 4, 1, 10, 00), \n",
    "    end=datetime(2022, 4, 1, 11, 00),\n",
    "    download=False,\n",
    "    # domain='F',\n",
    "    product=\"ABI-L2-ACMF\",\n",
    ")"
   ]
  },
  {
   "cell_type": "code",
   "execution_count": null,
   "id": "860cb308",
   "metadata": {},
   "outputs": [],
   "source": [
    "# Cloud phase at 2 km\n",
    "\n",
    "actp_files = goes2go.goes_timerange(\n",
    "    start=datetime(2022, 4, 1, 10, 00), \n",
    "    end=datetime(2022, 4, 1, 11, 00),\n",
    "    download=False,\n",
    "    # domain='F',\n",
    "    product=\"ABI-L2-ACTPF\",\n",
    ")"
   ]
  },
  {
   "cell_type": "code",
   "execution_count": null,
   "id": "ce992903",
   "metadata": {},
   "outputs": [],
   "source": [
    "# Cloud particle size at 2 km\n",
    "\n",
    "cps_files = goes2go.goes_timerange(\n",
    "    start=datetime(2022, 3, 1, 10, 00), \n",
    "    end=datetime(2022, 3, 1, 11, 00),\n",
    "    download=False,\n",
    "    # domain='F',\n",
    "    product=\"ABI-L2-CPSF\",\n",
    ")"
   ]
  },
  {
   "cell_type": "markdown",
   "id": "6728d8fe",
   "metadata": {},
   "source": [
    "#### Open example file"
   ]
  },
  {
   "cell_type": "code",
   "execution_count": null,
   "id": "3c743517",
   "metadata": {},
   "outputs": [],
   "source": [
    "index = 0\n",
    "goes_data = xr.open_dataset(fs.open(abi_files['file'][index], **fsspec_caching), engine=\"h5netcdf\")"
   ]
  },
  {
   "cell_type": "code",
   "execution_count": null,
   "id": "7eb59c31",
   "metadata": {},
   "outputs": [],
   "source": [
    "goes_data"
   ]
  },
  {
   "cell_type": "code",
   "execution_count": null,
   "id": "6641cc36",
   "metadata": {},
   "outputs": [],
   "source": [
    "goes_data.CMI_C14.plot()"
   ]
  },
  {
   "cell_type": "markdown",
   "id": "09bb196f",
   "metadata": {},
   "source": [
    "#### Create sub-patch from full-disk\n",
    "\n",
    "- Mask percentage of full disk\n",
    "- Sample with bias towards the center"
   ]
  },
  {
   "cell_type": "code",
   "execution_count": null,
   "id": "8b88f2b0",
   "metadata": {},
   "outputs": [],
   "source": [
    "ds = goes_data"
   ]
  },
  {
   "cell_type": "code",
   "execution_count": null,
   "id": "901328a6",
   "metadata": {},
   "outputs": [],
   "source": [
    "def create_fov_mask(shape, fov_radius):\n",
    "    \"\"\"\n",
    "    Function to create mask for specified field of view.\n",
    "    \"\"\"\n",
    "    # Create coordinate grids\n",
    "    y, x = np.ogrid[:shape[0], :shape[1]]\n",
    "    # Calculate center points\n",
    "    center_y, center_x = shape[0] // 2, shape[1] // 2\n",
    "    # Calculate distance from center for each point\n",
    "    dist_from_center = np.sqrt((x - center_x)**2 + (y - center_y)**2)\n",
    "    # Normalize distances by max possible distance (corner to center)\n",
    "    max_dist = np.sqrt((center_x)**2 + (center_y)**2)\n",
    "    normalized_dist = dist_from_center / max_dist\n",
    "    # Create mask for specified field of view\n",
    "    mask = normalized_dist <= fov_radius\n",
    "    return mask"
   ]
  },
  {
   "cell_type": "code",
   "execution_count": null,
   "id": "5689384e",
   "metadata": {},
   "outputs": [],
   "source": [
    "def check_quality_flags(ds):\n",
    "    \"\"\"\n",
    "    Function to check quality flags in the dataset.\n",
    "    0 --> good pixel quality\n",
    "    1 --> conditionally usable pixel quality\n",
    "    2 --> out of range pixel quality\n",
    "    3 --> no value pixel quality\n",
    "    4 --> focal plane temperature threshold exceeded pixel quality\n",
    "    \"\"\"\n",
    "    # Check each channel individually - exit early if bad quality found\n",
    "    for i in range(1, 17):\n",
    "        if (ds[f'DQF_C{i:02d}'] > 0).any().item():\n",
    "            return False\n",
    "    return True"
   ]
  },
  {
   "cell_type": "code",
   "execution_count": null,
   "id": "ac87c374",
   "metadata": {},
   "outputs": [],
   "source": [
    "class CenterWeightedCropDatasetEditor():\n",
    "    def __init__(self, patch_shape, fov_radius=0.6, max_attempts=10):\n",
    "        self.patch_shape = patch_shape\n",
    "        self.fov_radius = fov_radius\n",
    "        self.max_attempts = max_attempts\n",
    "    def __call__(self, ds):\n",
    "        assert ds['x'].shape[0] >= self.patch_shape[0], 'Invalid dataset shape: %s' % str(ds['x'].shape)\n",
    "        assert ds['y'].shape[0] >= self.patch_shape[1], 'Invalid dataset shape: %s' % str(ds['y'].shape)\n",
    "\n",
    "        # get x/y grid\n",
    "        x_grid, y_grid = np.meshgrid(np.arange(0, ds.x.shape[0], 1), np.arange(0, ds.y.shape[0], 1))\n",
    "\n",
    "        # create mask for valid coordinates within desired field of view\n",
    "        # NOTE: This masks from the center to the image edge, rather than disk edge\n",
    "        valid_mask = create_fov_mask(shape=(ds.x.shape[0], ds.y.shape[0]), fov_radius=self.fov_radius)\n",
    "\n",
    "        # get coordinate pairs for valid points\n",
    "        coords_on_disk = np.column_stack((x_grid[valid_mask], y_grid[valid_mask]))\n",
    "        del x_grid, y_grid\n",
    "\n",
    "        attempts = 0\n",
    "        while attempts <= self.max_attempts:\n",
    "            # pick random x/y index\n",
    "            random_idx = np.random.randint(0, len(coords_on_disk))\n",
    "            x, y = tuple(coords_on_disk[random_idx])\n",
    "            # define patch boundaries\n",
    "            xmin = x - self.patch_shape[0] // 2\n",
    "            ymin = y - self.patch_shape[1] // 2\n",
    "            xmax = x + self.patch_shape[0] // 2\n",
    "            ymax = y + self.patch_shape[1] // 2\n",
    "\n",
    "            # crop patch\n",
    "            patch_ds = ds.sel({'x': slice(ds['x'][xmin], ds['x'][xmax - 1]),\n",
    "                                'y': slice(ds['y'][ymin], ds['y'][ymax - 1])})\n",
    "            # check data quality flags\n",
    "            if check_quality_flags(patch_ds) == False:\n",
    "                print('Found patch with bad quality flags, trying again...')\n",
    "                # try new set of indices\n",
    "                attempts += 1\n",
    "                continue   \n",
    "            else:\n",
    "                # exit loop and return patch\n",
    "                return patch_ds, xmin, ymin\n",
    "\n",
    "        print('Could not find patch without bad quality flags after %d cropping attempts' % self.max_attempts)"
   ]
  },
  {
   "cell_type": "code",
   "execution_count": null,
   "id": "75c6947c",
   "metadata": {},
   "outputs": [],
   "source": [
    "patch_size = 1024\n",
    "\n",
    "crop = CenterWeightedCropDatasetEditor(patch_shape=(patch_size, patch_size), fov_radius=0.6)\n",
    "patch_ds, xmin, ymin = crop(ds)"
   ]
  },
  {
   "cell_type": "code",
   "execution_count": null,
   "id": "de8f3a1b",
   "metadata": {},
   "outputs": [],
   "source": [
    "patch_ds.CMI_C06.plot()"
   ]
  },
  {
   "cell_type": "code",
   "execution_count": null,
   "id": "ce682fff",
   "metadata": {},
   "outputs": [],
   "source": []
  }
 ],
 "metadata": {
  "kernelspec": {
   "display_name": "esl3d-env",
   "language": "python",
   "name": "python3"
  },
  "language_info": {
   "codemirror_mode": {
    "name": "ipython",
    "version": 3
   },
   "file_extension": ".py",
   "mimetype": "text/x-python",
   "name": "python",
   "nbconvert_exporter": "python",
   "pygments_lexer": "ipython3",
   "version": "3.11.13"
  }
 },
 "nbformat": 4,
 "nbformat_minor": 5
}
